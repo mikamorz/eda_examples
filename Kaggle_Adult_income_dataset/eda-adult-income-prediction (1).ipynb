{
 "cells": [
  {
   "cell_type": "code",
   "execution_count": 1,
   "metadata": {
    "_cell_guid": "b1076dfc-b9ad-4769-8c92-a6c4dae69d19",
    "_uuid": "8f2839f25d086af736a60e9eeb907d3b93b6e0e5"
   },
   "outputs": [
    {
     "name": "stdout",
     "output_type": "stream",
     "text": [
      "['adult.csv']\n"
     ]
    }
   ],
   "source": [
    "# Input data files are available in the \"../input/\" directory.\n",
    "# For example, running this (by clicking run or pressing Shift+Enter) will list the files in the input directory\n",
    "\n",
    "import os\n",
    "print(os.listdir(\"../input\"))\n",
    "\n",
    "# Any results you write to the current directory are saved as output."
   ]
  },
  {
   "cell_type": "markdown",
   "metadata": {
    "_cell_guid": "79c7e3d0-c299-4dcb-8224-4455121ee9b0",
    "_uuid": "d629ff2d2480ee46fbb7e2d37f6b5fab8052498a",
    "collapsed": true
   },
   "source": [
    "Подключите необходимые библиотеки."
   ]
  },
  {
   "cell_type": "code",
   "execution_count": 2,
   "metadata": {
    "_uuid": "cc70d383ed8f848363039e11580226fdfb8d293d"
   },
   "outputs": [],
   "source": [
    "# import numpy as np\n",
    "# import pandas as pd\n",
    "# import matplotlib.pyplot as plt\n",
    "# import seaborn as sns\n",
    "# sns.set(rc={'figure.figsize':(10, 8)}); # you can change this if needed"
   ]
  },
  {
   "cell_type": "markdown",
   "metadata": {
    "_uuid": "5a63d69d70b19240f3a13ca4044f64c66956b900"
   },
   "source": [
    "Загрузите данные. Они находятся в директории input."
   ]
  },
  {
   "cell_type": "code",
   "execution_count": 3,
   "metadata": {
    "_uuid": "01413d4929469719a777cc6c520a8822debb9dda"
   },
   "outputs": [],
   "source": [
    "# df = pd.read_csv(...)"
   ]
  },
  {
   "cell_type": "markdown",
   "metadata": {
    "_uuid": "49ff7834bf9d23c04bce631039d147afab2bb4a2"
   },
   "source": [
    "Визуализируйте распределение значений возраста для лиц, зарабатывающих > 50K и < 50K. Найдите среднее и стандартное отклонение возраста в каждой из групп."
   ]
  },
  {
   "cell_type": "code",
   "execution_count": 4,
   "metadata": {
    "_uuid": "92c1affbe77e9172cf4c0837cd52e19c84856c85"
   },
   "outputs": [],
   "source": [
    "# Your code"
   ]
  },
  {
   "cell_type": "markdown",
   "metadata": {
    "_uuid": "2b849f48732181b6f376190ddbb28d6c7b4658e1"
   },
   "source": [
    "Верно ли, что люди, зарабатывающие > 50K имеют как минимум полное среднее образование (значения **education** --- Bachelors, Prof-school, Assoc-acdm, Assoc-voc, Masters или Doctorate)? "
   ]
  },
  {
   "cell_type": "code",
   "execution_count": 5,
   "metadata": {
    "_uuid": "9746b6f756277a14bd8285298a23546d07c31570"
   },
   "outputs": [],
   "source": [
    "# Your code"
   ]
  },
  {
   "cell_type": "markdown",
   "metadata": {
    "_uuid": "778e25ae19403ddec899f4de44dff9350520ba8c"
   },
   "source": [
    "Какие мужчины зарабаывают в среднем больше --- женатые или холостые?"
   ]
  },
  {
   "cell_type": "code",
   "execution_count": 6,
   "metadata": {
    "_uuid": "2c6f4ae7ca4560885f837849d35cc690c9b97269"
   },
   "outputs": [],
   "source": [
    "# Your code"
   ]
  },
  {
   "cell_type": "markdown",
   "metadata": {
    "_uuid": "d957c4a8ddf534fcbc641192f0fa4a5fa10572e8"
   },
   "source": [
    "Каково максимальное количество рабочих часов в неделю? Сколько людей работают такое количество времени и каков среди них процент тех, кто зарабатывает много?"
   ]
  },
  {
   "cell_type": "code",
   "execution_count": 7,
   "metadata": {
    "_uuid": "98d07315495a41047b2be54b292f5c87e257287f"
   },
   "outputs": [],
   "source": [
    "# Your code"
   ]
  },
  {
   "cell_type": "markdown",
   "metadata": {
    "_uuid": "a37cde653c1a97b41cedda5f78340344f73074d7"
   },
   "source": [
    "Что можно сказать о корреляции между количеством рабочих часов и зарплатой? Является ли она статистически значимой?"
   ]
  },
  {
   "cell_type": "code",
   "execution_count": 8,
   "metadata": {
    "_uuid": "c838dbab313e5a92265ca186f0b505d48ddec3eb"
   },
   "outputs": [],
   "source": [
    "# Your code"
   ]
  },
  {
   "cell_type": "markdown",
   "metadata": {
    "_uuid": "0f6d25e18cda3a535a206698599159c64a9956bb"
   },
   "source": [
    "Как связан уровень образования и количество рабочих часов? Не забывайте о визуализации информации."
   ]
  },
  {
   "cell_type": "code",
   "execution_count": 9,
   "metadata": {
    "_uuid": "3e32f9745b36403dce44fe385015d6038218c218"
   },
   "outputs": [],
   "source": [
    "# Your code"
   ]
  },
  {
   "cell_type": "markdown",
   "metadata": {
    "_uuid": "8fdc7e950c79ce7902ed97245937d69fb9271c0d"
   },
   "source": [
    "Визуализируйте распределение заработков (группы > 50K и < 50K) по странам. Какой вывод можно сделать?"
   ]
  },
  {
   "cell_type": "code",
   "execution_count": 10,
   "metadata": {
    "_uuid": "e580f4252bed4148f34321c24199bdad1d18fd2e"
   },
   "outputs": [],
   "source": [
    "# Your code"
   ]
  },
  {
   "cell_type": "markdown",
   "metadata": {
    "_uuid": "35e82827adda575563f1bd6b2e9f05ec83b027c6"
   },
   "source": [
    "Какие ещё инсайты можно найти в имеющихся данных? Творческое задание."
   ]
  },
  {
   "cell_type": "code",
   "execution_count": 11,
   "metadata": {
    "_uuid": "4266a1afa54944d9555c9c89f1e825289afd177f"
   },
   "outputs": [],
   "source": [
    "# Your code"
   ]
  },
  {
   "cell_type": "code",
   "execution_count": 12,
   "metadata": {
    "_uuid": "a6f842e63756dbd0c934441be69614edde471a38"
   },
   "outputs": [],
   "source": []
  }
 ],
 "metadata": {
  "kernelspec": {
   "display_name": "Python 3",
   "language": "python",
   "name": "python3"
  },
  "language_info": {
   "codemirror_mode": {
    "name": "ipython",
    "version": 3
   },
   "file_extension": ".py",
   "mimetype": "text/x-python",
   "name": "python",
   "nbconvert_exporter": "python",
   "pygments_lexer": "ipython3",
   "version": "3.6.6"
  }
 },
 "nbformat": 4,
 "nbformat_minor": 1
}
