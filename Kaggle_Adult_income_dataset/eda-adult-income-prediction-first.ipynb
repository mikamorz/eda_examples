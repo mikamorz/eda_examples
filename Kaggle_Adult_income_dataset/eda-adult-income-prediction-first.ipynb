{
 "cells": [
  {
   "cell_type": "code",
   "execution_count": 1,
   "metadata": {
    "_cell_guid": "206dd107-50b0-4856-8f16-dc84e525523c",
    "_uuid": "e720f829-c1b0-4242-8a25-ee105e9f91d2",
    "collapsed": false,
    "execution": {
     "iopub.execute_input": "2021-10-07T15:50:24.171253Z",
     "iopub.status.busy": "2021-10-07T15:50:24.170863Z",
     "iopub.status.idle": "2021-10-07T15:50:24.180235Z",
     "shell.execute_reply": "2021-10-07T15:50:24.178492Z",
     "shell.execute_reply.started": "2021-10-07T15:50:24.171194Z"
    },
    "jupyter": {
     "outputs_hidden": false
    }
   },
   "outputs": [
    {
     "name": "stdout",
     "output_type": "stream",
     "text": [
      "['adult.csv']\n"
     ]
    }
   ],
   "source": [
    "# Input data files are available in the \"../input/\" directory.\n",
    "# For example, running this (by clicking run or pressing Shift+Enter) will list the files in the input directory\n",
    "\n",
    "import os\n",
    "print(os.listdir(\"../input\"))\n",
    "\n",
    "# Any results you write to the current directory are saved as output."
   ]
  },
  {
   "cell_type": "markdown",
   "metadata": {
    "_cell_guid": "0d592529-bb17-4571-97af-08adb4aa89b2",
    "_uuid": "5c9ab787-eed5-49a6-851a-cc13efa179c7"
   },
   "source": [
    "**Подключите необходимые библиотеки.**"
   ]
  },
  {
   "cell_type": "code",
   "execution_count": 2,
   "metadata": {
    "_cell_guid": "b6630530-edc9-427c-b760-06f54ae9a515",
    "_uuid": "8e3baeaf-16d7-4dff-9247-f6388ded9ecf",
    "collapsed": false,
    "execution": {
     "iopub.execute_input": "2021-10-07T15:50:24.182832Z",
     "iopub.status.busy": "2021-10-07T15:50:24.182341Z",
     "iopub.status.idle": "2021-10-07T15:50:24.190402Z",
     "shell.execute_reply": "2021-10-07T15:50:24.188966Z",
     "shell.execute_reply.started": "2021-10-07T15:50:24.182757Z"
    },
    "jupyter": {
     "outputs_hidden": false
    }
   },
   "outputs": [],
   "source": [
    "import numpy as np\n",
    "import pandas as pd\n",
    "import matplotlib.pyplot as plt\n",
    "import seaborn as sns\n",
    "from scipy.stats import pearsonr, spearmanr, kendalltau\n"
   ]
  },
  {
   "cell_type": "markdown",
   "metadata": {
    "_cell_guid": "3c09c03d-9f8b-400c-83f8-8ea569799fad",
    "_uuid": "b1002833-43f7-48ce-be9d-9ea33f42cb3d"
   },
   "source": [
    "**Загрузите данные. Они находятся в директории input.**"
   ]
  },
  {
   "cell_type": "code",
   "execution_count": 3,
   "metadata": {
    "_cell_guid": "19eac073-b225-42ef-8d5c-2ba835133849",
    "_uuid": "f8e5d373-cda7-475c-9e4a-754a38909434",
    "collapsed": false,
    "execution": {
     "iopub.execute_input": "2021-10-07T15:50:24.192596Z",
     "iopub.status.busy": "2021-10-07T15:50:24.192282Z",
     "iopub.status.idle": "2021-10-07T15:50:24.372061Z",
     "shell.execute_reply": "2021-10-07T15:50:24.370859Z",
     "shell.execute_reply.started": "2021-10-07T15:50:24.192538Z"
    },
    "jupyter": {
     "outputs_hidden": false
    }
   },
   "outputs": [
    {
     "data": {
      "text/html": [
       "<div>\n",
       "<style scoped>\n",
       "    .dataframe tbody tr th:only-of-type {\n",
       "        vertical-align: middle;\n",
       "    }\n",
       "\n",
       "    .dataframe tbody tr th {\n",
       "        vertical-align: top;\n",
       "    }\n",
       "\n",
       "    .dataframe thead th {\n",
       "        text-align: right;\n",
       "    }\n",
       "</style>\n",
       "<table border=\"1\" class=\"dataframe\">\n",
       "  <thead>\n",
       "    <tr style=\"text-align: right;\">\n",
       "      <th></th>\n",
       "      <th>0</th>\n",
       "      <th>1</th>\n",
       "      <th>2</th>\n",
       "      <th>3</th>\n",
       "      <th>4</th>\n",
       "      <th>5</th>\n",
       "      <th>6</th>\n",
       "      <th>7</th>\n",
       "      <th>8</th>\n",
       "      <th>9</th>\n",
       "    </tr>\n",
       "  </thead>\n",
       "  <tbody>\n",
       "    <tr>\n",
       "      <th>age</th>\n",
       "      <td>25</td>\n",
       "      <td>38</td>\n",
       "      <td>28</td>\n",
       "      <td>44</td>\n",
       "      <td>18</td>\n",
       "      <td>34</td>\n",
       "      <td>29</td>\n",
       "      <td>63</td>\n",
       "      <td>24</td>\n",
       "      <td>55</td>\n",
       "    </tr>\n",
       "    <tr>\n",
       "      <th>workclass</th>\n",
       "      <td>Private</td>\n",
       "      <td>Private</td>\n",
       "      <td>Local-gov</td>\n",
       "      <td>Private</td>\n",
       "      <td>?</td>\n",
       "      <td>Private</td>\n",
       "      <td>?</td>\n",
       "      <td>Self-emp-not-inc</td>\n",
       "      <td>Private</td>\n",
       "      <td>Private</td>\n",
       "    </tr>\n",
       "    <tr>\n",
       "      <th>fnlwgt</th>\n",
       "      <td>226802</td>\n",
       "      <td>89814</td>\n",
       "      <td>336951</td>\n",
       "      <td>160323</td>\n",
       "      <td>103497</td>\n",
       "      <td>198693</td>\n",
       "      <td>227026</td>\n",
       "      <td>104626</td>\n",
       "      <td>369667</td>\n",
       "      <td>104996</td>\n",
       "    </tr>\n",
       "    <tr>\n",
       "      <th>education</th>\n",
       "      <td>11th</td>\n",
       "      <td>HS-grad</td>\n",
       "      <td>Assoc-acdm</td>\n",
       "      <td>Some-college</td>\n",
       "      <td>Some-college</td>\n",
       "      <td>10th</td>\n",
       "      <td>HS-grad</td>\n",
       "      <td>Prof-school</td>\n",
       "      <td>Some-college</td>\n",
       "      <td>7th-8th</td>\n",
       "    </tr>\n",
       "    <tr>\n",
       "      <th>educational-num</th>\n",
       "      <td>7</td>\n",
       "      <td>9</td>\n",
       "      <td>12</td>\n",
       "      <td>10</td>\n",
       "      <td>10</td>\n",
       "      <td>6</td>\n",
       "      <td>9</td>\n",
       "      <td>15</td>\n",
       "      <td>10</td>\n",
       "      <td>4</td>\n",
       "    </tr>\n",
       "    <tr>\n",
       "      <th>marital-status</th>\n",
       "      <td>Never-married</td>\n",
       "      <td>Married-civ-spouse</td>\n",
       "      <td>Married-civ-spouse</td>\n",
       "      <td>Married-civ-spouse</td>\n",
       "      <td>Never-married</td>\n",
       "      <td>Never-married</td>\n",
       "      <td>Never-married</td>\n",
       "      <td>Married-civ-spouse</td>\n",
       "      <td>Never-married</td>\n",
       "      <td>Married-civ-spouse</td>\n",
       "    </tr>\n",
       "    <tr>\n",
       "      <th>occupation</th>\n",
       "      <td>Machine-op-inspct</td>\n",
       "      <td>Farming-fishing</td>\n",
       "      <td>Protective-serv</td>\n",
       "      <td>Machine-op-inspct</td>\n",
       "      <td>?</td>\n",
       "      <td>Other-service</td>\n",
       "      <td>?</td>\n",
       "      <td>Prof-specialty</td>\n",
       "      <td>Other-service</td>\n",
       "      <td>Craft-repair</td>\n",
       "    </tr>\n",
       "    <tr>\n",
       "      <th>relationship</th>\n",
       "      <td>Own-child</td>\n",
       "      <td>Husband</td>\n",
       "      <td>Husband</td>\n",
       "      <td>Husband</td>\n",
       "      <td>Own-child</td>\n",
       "      <td>Not-in-family</td>\n",
       "      <td>Unmarried</td>\n",
       "      <td>Husband</td>\n",
       "      <td>Unmarried</td>\n",
       "      <td>Husband</td>\n",
       "    </tr>\n",
       "    <tr>\n",
       "      <th>race</th>\n",
       "      <td>Black</td>\n",
       "      <td>White</td>\n",
       "      <td>White</td>\n",
       "      <td>Black</td>\n",
       "      <td>White</td>\n",
       "      <td>White</td>\n",
       "      <td>Black</td>\n",
       "      <td>White</td>\n",
       "      <td>White</td>\n",
       "      <td>White</td>\n",
       "    </tr>\n",
       "    <tr>\n",
       "      <th>gender</th>\n",
       "      <td>Male</td>\n",
       "      <td>Male</td>\n",
       "      <td>Male</td>\n",
       "      <td>Male</td>\n",
       "      <td>Female</td>\n",
       "      <td>Male</td>\n",
       "      <td>Male</td>\n",
       "      <td>Male</td>\n",
       "      <td>Female</td>\n",
       "      <td>Male</td>\n",
       "    </tr>\n",
       "    <tr>\n",
       "      <th>capital-gain</th>\n",
       "      <td>0</td>\n",
       "      <td>0</td>\n",
       "      <td>0</td>\n",
       "      <td>7688</td>\n",
       "      <td>0</td>\n",
       "      <td>0</td>\n",
       "      <td>0</td>\n",
       "      <td>3103</td>\n",
       "      <td>0</td>\n",
       "      <td>0</td>\n",
       "    </tr>\n",
       "    <tr>\n",
       "      <th>capital-loss</th>\n",
       "      <td>0</td>\n",
       "      <td>0</td>\n",
       "      <td>0</td>\n",
       "      <td>0</td>\n",
       "      <td>0</td>\n",
       "      <td>0</td>\n",
       "      <td>0</td>\n",
       "      <td>0</td>\n",
       "      <td>0</td>\n",
       "      <td>0</td>\n",
       "    </tr>\n",
       "    <tr>\n",
       "      <th>hours-per-week</th>\n",
       "      <td>40</td>\n",
       "      <td>50</td>\n",
       "      <td>40</td>\n",
       "      <td>40</td>\n",
       "      <td>30</td>\n",
       "      <td>30</td>\n",
       "      <td>40</td>\n",
       "      <td>32</td>\n",
       "      <td>40</td>\n",
       "      <td>10</td>\n",
       "    </tr>\n",
       "    <tr>\n",
       "      <th>native-country</th>\n",
       "      <td>United-States</td>\n",
       "      <td>United-States</td>\n",
       "      <td>United-States</td>\n",
       "      <td>United-States</td>\n",
       "      <td>United-States</td>\n",
       "      <td>United-States</td>\n",
       "      <td>United-States</td>\n",
       "      <td>United-States</td>\n",
       "      <td>United-States</td>\n",
       "      <td>United-States</td>\n",
       "    </tr>\n",
       "    <tr>\n",
       "      <th>income</th>\n",
       "      <td>&lt;=50K</td>\n",
       "      <td>&lt;=50K</td>\n",
       "      <td>&gt;50K</td>\n",
       "      <td>&gt;50K</td>\n",
       "      <td>&lt;=50K</td>\n",
       "      <td>&lt;=50K</td>\n",
       "      <td>&lt;=50K</td>\n",
       "      <td>&gt;50K</td>\n",
       "      <td>&lt;=50K</td>\n",
       "      <td>&lt;=50K</td>\n",
       "    </tr>\n",
       "  </tbody>\n",
       "</table>\n",
       "</div>"
      ],
      "text/plain": [
       "                                 0         ...                           9\n",
       "age                             25         ...                          55\n",
       "workclass                  Private         ...                     Private\n",
       "fnlwgt                      226802         ...                      104996\n",
       "education                     11th         ...                     7th-8th\n",
       "educational-num                  7         ...                           4\n",
       "marital-status       Never-married         ...          Married-civ-spouse\n",
       "occupation       Machine-op-inspct         ...                Craft-repair\n",
       "relationship             Own-child         ...                     Husband\n",
       "race                         Black         ...                       White\n",
       "gender                        Male         ...                        Male\n",
       "capital-gain                     0         ...                           0\n",
       "capital-loss                     0         ...                           0\n",
       "hours-per-week                  40         ...                          10\n",
       "native-country       United-States         ...               United-States\n",
       "income                       <=50K         ...                       <=50K\n",
       "\n",
       "[15 rows x 10 columns]"
      ]
     },
     "execution_count": 3,
     "metadata": {},
     "output_type": "execute_result"
    }
   ],
   "source": [
    "df = pd.read_csv(\"../input/adult.csv\")\n",
    "df.head(10).T"
   ]
  },
  {
   "cell_type": "markdown",
   "metadata": {
    "_cell_guid": "3344f97c-6a16-4a31-a7b8-6d4c2cf307c6",
    "_uuid": "9a9ff0d3-b803-44af-aecb-027ee0358d90"
   },
   "source": [
    "**Визуализируйте распределение значений возраста для лиц, зарабатывающих > 50K и < 50K. Найдите среднее и стандартное отклонение возраста в каждой из групп.**"
   ]
  },
  {
   "cell_type": "code",
   "execution_count": 4,
   "metadata": {
    "_cell_guid": "2a692798-9ae7-46d4-b516-b4038cd323de",
    "_uuid": "47b24882-e8bb-4091-8167-a5f14ee26d97",
    "collapsed": false,
    "execution": {
     "iopub.execute_input": "2021-10-07T15:50:24.376008Z",
     "iopub.status.busy": "2021-10-07T15:50:24.375756Z",
     "iopub.status.idle": "2021-10-07T15:50:24.697908Z",
     "shell.execute_reply": "2021-10-07T15:50:24.697211Z",
     "shell.execute_reply.started": "2021-10-07T15:50:24.375961Z"
    },
    "jupyter": {
     "outputs_hidden": false
    }
   },
   "outputs": [
    {
     "data": {
      "image/png": "[encoded data removed]",
      "text/plain": [
       "<Figure size 432x288 with 1 Axes>"
      ]
     },
     "metadata": {},
     "output_type": "display_data"
    },
    {
     "name": "stdout",
     "output_type": "stream",
     "text": [
      "44.275177547702576\n",
      "36.87218409366169\n",
      "10.558983370287825\n",
      "14.104118026101577\n"
     ]
    }
   ],
   "source": [
    "df.groupby('income')['age'].hist()\n",
    "plt.ylabel('Count')\n",
    "plt.xlabel('Age')\n",
    "plt.legend(np.array([\"<=50K\", \">50K\"]))\n",
    "plt.show()\n",
    "print(df[df[\"income\"] ==\">50K\"][\"age\"].mean()) # среднее отклонение возраста для лиц зарабатывающих более 50К\n",
    "print(df[df[\"income\"] ==\"<=50K\"][\"age\"].mean()) # среднее отклонение возраста для лиц зарабатывающих менее 50К\n",
    "print(df[df[\"income\"] ==\">50K\"][\"age\"].std()) # среднеквадратичное (стандартное) отклонение возраста для лиц зарабатывающих более 50К\n",
    "print(df[df[\"income\"] ==\"<=50K\"][\"age\"].std()) # среднеквадратичное (стандартное) отклонение возраста для лиц зарабатывающих менее 50К"
   ]
  },
  {
   "cell_type": "markdown",
   "metadata": {
    "_cell_guid": "74d9c20f-f250-4ea1-a98c-eacbebb08084",
    "_uuid": "77247403-afa5-4a82-b9a2-48dd6722c009"
   },
   "source": [
    "**Верно ли, что люди, зарабатывающие > 50K имеют как минимум полное среднее образование (значения education--- Bachelors, Prof-school, Assoc-acdm, Assoc-voc, Masters или Doctorate)?**"
   ]
  },
  {
   "cell_type": "code",
   "execution_count": 5,
   "metadata": {
    "_cell_guid": "a9852304-e3be-4229-86cc-7625a7349d80",
    "_uuid": "21fbe61b-cdf8-4368-84bc-f6e48c32ce5b",
    "collapsed": false,
    "execution": {
     "iopub.execute_input": "2021-10-07T15:50:24.699404Z",
     "iopub.status.busy": "2021-10-07T15:50:24.699002Z",
     "iopub.status.idle": "2021-10-07T15:50:24.715875Z",
     "shell.execute_reply": "2021-10-07T15:50:24.714949Z",
     "shell.execute_reply.started": "2021-10-07T15:50:24.699345Z"
    },
    "jupyter": {
     "outputs_hidden": false
    }
   },
   "outputs": [
    {
     "data": {
      "text/plain": [
       "Bachelors       3313\n",
       "HS-grad         2503\n",
       "Some-college    2063\n",
       "Masters         1459\n",
       "Prof-school      617\n",
       "Assoc-voc        522\n",
       "Doctorate        431\n",
       "Assoc-acdm       413\n",
       "11th              92\n",
       "10th              87\n",
       "7th-8th           62\n",
       "12th              48\n",
       "9th               41\n",
       "5th-6th           27\n",
       "1st-4th            8\n",
       "Preschool          1\n",
       "Name: education, dtype: int64"
      ]
     },
     "execution_count": 5,
     "metadata": {},
     "output_type": "execute_result"
    }
   ],
   "source": [
    "df[df[\"income\"] ==\">50K\"][\"education\"].value_counts()"
   ]
  },
  {
   "cell_type": "markdown",
   "metadata": {},
   "source": [
    "*Вывод:*\n",
    " Не все люди, зарабатывающие больше 50К, имеют полное среднее образование."
   ]
  },
  {
   "cell_type": "markdown",
   "metadata": {
    "_cell_guid": "528d8c96-59b0-4b9b-8200-47f10fe35b47",
    "_uuid": "9213fff2-79bf-4104-b4a0-025c3b090192"
   },
   "source": [
    "**Какие мужчины зарабаывают в среднем больше --- женатые или холостые?**"
   ]
  },
  {
   "cell_type": "code",
   "execution_count": 6,
   "metadata": {
    "_cell_guid": "c403b100-8f43-4a70-8004-5ad8503973aa",
    "_uuid": "99f5db2a-3d71-4aab-b125-6fd7c872c35f",
    "collapsed": false,
    "execution": {
     "iopub.execute_input": "2021-10-07T15:50:24.717991Z",
     "iopub.status.busy": "2021-10-07T15:50:24.717202Z",
     "iopub.status.idle": "2021-10-07T15:50:24.757087Z",
     "shell.execute_reply": "2021-10-07T15:50:24.756199Z",
     "shell.execute_reply.started": "2021-10-07T15:50:24.717930Z"
    },
    "jupyter": {
     "outputs_hidden": false
    }
   },
   "outputs": [
    {
     "name": "stdout",
     "output_type": "stream",
     "text": [
      "Husband           19716\n",
      "Not-in-family     12583\n",
      "Own-child          7581\n",
      "Unmarried          5125\n",
      "Wife               2331\n",
      "Other-relative     1506\n",
      "Name: relationship, dtype: int64\n",
      "<=50K    55.132887\n",
      ">50K     44.867113\n",
      "Name: income, dtype: float64\n",
      "<=50K    87.719298\n",
      ">50K     12.280702\n",
      "Name: income, dtype: float64\n"
     ]
    }
   ],
   "source": [
    "print(df[\"relationship\"].value_counts())\n",
    "print(df[(df[\"relationship\"] == \"Husband\") ][\"income\"].value_counts(normalize = True) * 100)\n",
    "print(df[(df[\"relationship\"] == \"Unmarried\") & (df[\"gender\"] == \"Male\")][\"income\"].value_counts(normalize = True) * 100)\n"
   ]
  },
  {
   "cell_type": "markdown",
   "metadata": {},
   "source": [
    "*Вывод:* В среднем женатые мужчины зарабатывают больше."
   ]
  },
  {
   "cell_type": "markdown",
   "metadata": {
    "_cell_guid": "9f14700a-af90-4d21-a25d-537b91f7aeb2",
    "_uuid": "a43f28cc-df3b-49dc-a10f-5055e6d649dc"
   },
   "source": [
    "**Каково максимальное количество рабочих часов в неделю? Сколько людей работают такое количество времени и каков среди них процент тех, кто зарабатывает много?**"
   ]
  },
  {
   "cell_type": "code",
   "execution_count": 7,
   "metadata": {
    "_cell_guid": "36ecfe29-b462-414f-8d24-16e79cacd309",
    "_uuid": "1ca7ee92-dd96-4d3e-a2a9-cea0a5679ab3",
    "execution": {
     "iopub.execute_input": "2021-10-07T15:50:24.758592Z",
     "iopub.status.busy": "2021-10-07T15:50:24.758179Z",
     "iopub.status.idle": "2021-10-07T15:50:24.770433Z",
     "shell.execute_reply": "2021-10-07T15:50:24.769022Z",
     "shell.execute_reply.started": "2021-10-07T15:50:24.758536Z"
    }
   },
   "outputs": [
    {
     "name": "stdout",
     "output_type": "stream",
     "text": [
      "99\n",
      "137\n",
      "<=50K    70.072993\n",
      ">50K     29.927007\n",
      "Name: income, dtype: float64\n"
     ]
    }
   ],
   "source": [
    "print(df[\"hours-per-week\"].max()) #максимальное количество рабочих часов в неделю\n",
    "print(df[df[\"hours-per-week\"] == 99].shape[0]) #cколько человек работает  максимальное количество часов в неделю\n",
    "print(df[df[\"hours-per-week\"] == 99][\"income\"].value_counts(normalize = True) * 100)"
   ]
  },
  {
   "cell_type": "markdown",
   "metadata": {},
   "source": [
    "*Вывод:* Не всегда высокий заработок зависит от количества рабочих часов в неделю."
   ]
  },
  {
   "cell_type": "markdown",
   "metadata": {
    "_cell_guid": "4d9566df-2f5e-4155-93b9-94438e578ab5",
    "_uuid": "6d7c2cbd-a39e-4416-ac8e-5c277263cc8f"
   },
   "source": [
    "**Что можно сказать о корреляции между количеством рабочих часов и зарплатой? Является ли она статистически значимой?**"
   ]
  },
  {
   "cell_type": "code",
   "execution_count": 8,
   "metadata": {
    "_cell_guid": "7ed5759c-3486-42d0-aaff-c8c1279012fd",
    "_uuid": "75e430a1-0f32-4470-b0d0-20898e5cbc08",
    "collapsed": false,
    "execution": {
     "iopub.execute_input": "2021-10-07T15:50:24.772339Z",
     "iopub.status.busy": "2021-10-07T15:50:24.772069Z",
     "iopub.status.idle": "2021-10-07T15:50:24.804311Z",
     "shell.execute_reply": "2021-10-07T15:50:24.803073Z",
     "shell.execute_reply.started": "2021-10-07T15:50:24.772292Z"
    },
    "jupyter": {
     "outputs_hidden": false
    }
   },
   "outputs": [
    {
     "name": "stdout",
     "output_type": "stream",
     "text": [
      "Pearson correlation: 0.22768676056081114 p-value: 0.0\n",
      "Spearman correlation: 0.2681657658301571 p-value: 0.0\n",
      "Kendalltau correlation: 0.23742944661375098 p-value: 0.0\n"
     ]
    }
   ],
   "source": [
    "df[\"income>50k\"] = df[\"income\"].map({\"<=50K\":0,\">50K\":1})\n",
    "r = pearsonr(df['hours-per-week'], df['income>50k'])\n",
    "print('Pearson correlation:', r[0], 'p-value:', r[1])\n",
    "r = spearmanr(df['hours-per-week'], df['income>50k'])\n",
    "print('Spearman correlation:', r[0], 'p-value:', r[1])\n",
    "r = kendalltau(df['hours-per-week'], df['income>50k'])\n",
    "print('Kendalltau correlation:', r[0], 'p-value:', r[1])\n",
    "\n"
   ]
  },
  {
   "cell_type": "markdown",
   "metadata": {},
   "source": [
    "*Вывод:* т.к. p-value достаточно мала, значит корреляция является статистически значимой. "
   ]
  },
  {
   "cell_type": "markdown",
   "metadata": {
    "_cell_guid": "a815612a-645d-4973-af65-d47cdd6d94c4",
    "_uuid": "a41a2b85-e6e6-4cc7-93e0-c01f9ada138c"
   },
   "source": [
    "**Как связан уровень образования и количество рабочих часов? Не забывайте о визуализации информации.**"
   ]
  },
  {
   "cell_type": "code",
   "execution_count": 9,
   "metadata": {
    "_cell_guid": "c3d1d27f-e67f-4237-9cd7-005b6a11ce9e",
    "_uuid": "53e85454-c2b1-41d3-9921-36ff83202a26",
    "collapsed": false,
    "execution": {
     "iopub.execute_input": "2021-10-07T15:50:24.805904Z",
     "iopub.status.busy": "2021-10-07T15:50:24.805646Z",
     "iopub.status.idle": "2021-10-07T15:50:25.056172Z",
     "shell.execute_reply": "2021-10-07T15:50:25.054529Z",
     "shell.execute_reply.started": "2021-10-07T15:50:24.805858Z"
    },
    "jupyter": {
     "outputs_hidden": false
    }
   },
   "outputs": [
    {
     "data": {
      "image/png": "[encoded data removed]",
      "text/plain": [
       "<Figure size 432x288 with 1 Axes>"
      ]
     },
     "metadata": {},
     "output_type": "display_data"
    }
   ],
   "source": [
    "df.groupby(\"education\")[\"hours-per-week\"].mean().sort_values().plot.bar()\n",
    "plt.ylabel('hours-per-week') \n",
    "plt.show()\n",
    "\n"
   ]
  },
  {
   "cell_type": "markdown",
   "metadata": {},
   "source": [
    "*Вывод:* Люди с законченным средним и особенно с высшим образованием работают больше часов в неделю. "
   ]
  },
  {
   "cell_type": "markdown",
   "metadata": {
    "_cell_guid": "4baf71a2-cfe9-4082-8911-b1c046d882df",
    "_uuid": "6fae1cd1-62d1-4fff-a6b0-4793c8757afa"
   },
   "source": [
    "**Визуализируйте распределение заработков (группы > 50K и < 50K) по странам. Какой вывод можно сделать?**"
   ]
  },
  {
   "cell_type": "code",
   "execution_count": 10,
   "metadata": {
    "_cell_guid": "592cc150-2ff7-49a8-be03-0e54fcc04e9c",
    "_uuid": "2a382baf-727f-42dc-8f21-c965b487612d",
    "collapsed": false,
    "execution": {
     "iopub.execute_input": "2021-10-07T15:50:25.059297Z",
     "iopub.status.busy": "2021-10-07T15:50:25.058924Z",
     "iopub.status.idle": "2021-10-07T15:50:25.586157Z",
     "shell.execute_reply": "2021-10-07T15:50:25.585255Z",
     "shell.execute_reply.started": "2021-10-07T15:50:25.059240Z"
    },
    "jupyter": {
     "outputs_hidden": false
    }
   },
   "outputs": [
    {
     "name": "stdout",
     "output_type": "stream",
     "text": [
      "89.74243478973015 %\n"
     ]
    },
    {
     "data": {
      "image/png": "[encoded data removed]",
      "text/plain": [
       "<Figure size 432x288 with 1 Axes>"
      ]
     },
     "metadata": {},
     "output_type": "display_data"
    }
   ],
   "source": [
    "print(df[df[\"native-country\"] == \"United-States\"].shape[0] / df.shape[0] * 100, \"%\")\n",
    "sns.countplot(y = \"native-country\", hue = \"income\", data = df)\n",
    "plt.show()\n"
   ]
  },
  {
   "cell_type": "markdown",
   "metadata": {},
   "source": [
    "*Вывод:* Имеющиеся данные больше не сбалансированны. Б о́льшая часть людей из США"
   ]
  },
  {
   "cell_type": "markdown",
   "metadata": {
    "_cell_guid": "21cf114d-d55e-4e31-8e3d-ff3f0bc968aa",
    "_uuid": "22d30914-3d8a-42c4-8fcf-5596e8cecd0d"
   },
   "source": [
    "**Какие ещё инсайты можно найти в имеющихся данных? Творческое задание.**"
   ]
  },
  {
   "cell_type": "markdown",
   "metadata": {},
   "source": [
    "Посмотрим на средний заработок по роду деятельности:"
   ]
  },
  {
   "cell_type": "code",
   "execution_count": 11,
   "metadata": {
    "_cell_guid": "f9e676af-5317-471d-93fc-d292759ce60d",
    "_uuid": "a4c48991-e6ce-4e02-9673-2d2d04cd622b",
    "collapsed": false,
    "execution": {
     "iopub.execute_input": "2021-10-07T15:50:25.588018Z",
     "iopub.status.busy": "2021-10-07T15:50:25.587527Z",
     "iopub.status.idle": "2021-10-07T15:50:25.948054Z",
     "shell.execute_reply": "2021-10-07T15:50:25.947159Z",
     "shell.execute_reply.started": "2021-10-07T15:50:25.587962Z"
    },
    "jupyter": {
     "outputs_hidden": false
    }
   },
   "outputs": [
    {
     "data": {
      "text/plain": [
       "<function matplotlib.pyplot.show(*args, **kw)>"
      ]
     },
     "execution_count": 11,
     "metadata": {},
     "output_type": "execute_result"
    },
    {
     "data": {
      "image/png": "[encoded data removed]",
      "text/plain": [
       "<Figure size 432x288 with 1 Axes>"
      ]
     },
     "metadata": {},
     "output_type": "display_data"
    }
   ],
   "source": [
    "df.groupby('occupation')['income>50k'].mean().sort_values().plot.bar()\n",
    "plt.show"
   ]
  },
  {
   "cell_type": "markdown",
   "metadata": {},
   "source": [
    "Посмотрим на заработок по рабочему классу"
   ]
  },
  {
   "cell_type": "code",
   "execution_count": 12,
   "metadata": {
    "_cell_guid": "3d53d3c0-0190-4a1d-81ce-a1291178b623",
    "_uuid": "319ef39b-9c2c-4daa-931f-bba1133d0167",
    "collapsed": false,
    "execution": {
     "iopub.execute_input": "2021-10-07T15:50:26.198983Z",
     "iopub.status.busy": "2021-10-07T15:50:26.198362Z",
     "iopub.status.idle": "2021-10-07T15:50:26.391241Z",
     "shell.execute_reply": "2021-10-07T15:50:26.390607Z",
     "shell.execute_reply.started": "2021-10-07T15:50:26.198917Z"
    },
    "jupyter": {
     "outputs_hidden": false
    }
   },
   "outputs": [
    {
     "name": "stdout",
     "output_type": "stream",
     "text": [
      "AxesSubplot(0.125,0.125;0.775x0.755)\n"
     ]
    },
    {
     "data": {
      "image/png": "[encoded data removed]",
      "text/plain": [
       "<Figure size 432x288 with 1 Axes>"
      ]
     },
     "metadata": {},
     "output_type": "display_data"
    }
   ],
   "source": [
    "print(df.groupby(\"workclass\")[\"income\"].value_counts().plot(kind = \"bar\"))\n",
    "plt.ylabel('count') \n",
    "plt.show()\n"
   ]
  }
 ],
 "metadata": {
  "kernelspec": {
   "display_name": "Python 3",
   "language": "python",
   "name": "python3"
  },
  "language_info": {
   "codemirror_mode": {
    "name": "ipython",
    "version": 3
   },
   "file_extension": ".py",
   "mimetype": "text/x-python",
   "name": "python",
   "nbconvert_exporter": "python",
   "pygments_lexer": "ipython3",
   "version": "3.6.4"
  }
 },
 "nbformat": 4,
 "nbformat_minor": 4
}
